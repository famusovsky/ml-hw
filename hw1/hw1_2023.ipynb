{
 "cells": [
  {
   "cell_type": "markdown",
   "metadata": {
    "id": "5GYwwlTcuJ4m"
   },
   "source": [
    "# HSE 2023: Mathematical Methods for Data Analysis\n",
    "\n",
    "## Homework 1"
   ]
  },
  {
   "cell_type": "markdown",
   "metadata": {
    "id": "2OMoZn7puJ4n"
   },
   "source": [
    "### Attention!\n",
    "* For tasks where <ins>text answer</ins> is required **Russian language** is **allowed**.\n",
    "* If a task asks you to describe something (make conclusions) then **text answer** is **mandatory** and **is** part of the task\n",
    "* **Do not** upload the dataset (titanic.csv) to the grading system (we already have it)\n",
    "* We **only** accept **ipynb** notebooks. If you use Google Colab then you'll have to download the notebook before passing the homework\n",
    "* **Do not** use python loops instead of NumPy vector operations over NumPy vectors - it significantly decreases performance (see why https://blog.paperspace.com/numpy-optimization-vectorization-and-broadcasting/), will be punished with -0.25 for **every** task.\n",
    "Loops are only allowed in part 1 (Tasks 1 - 4).\n",
    "* Some tasks contain tests. They only test your solution on a simple example, thus, passing the test does **not** guarantee you the full grade for the task."
   ]
  },
  {
   "cell_type": "code",
   "execution_count": 1,
   "metadata": {
    "id": "KVxhOZOXuJ4o"
   },
   "outputs": [],
   "source": [
    "%matplotlib inline\n",
    "import numpy as np\n",
    "import pandas as pd\n",
    "import matplotlib.pyplot as plt\n",
    "import seaborn as sns"
   ]
  },
  {
   "cell_type": "markdown",
   "metadata": {
    "id": "U20kQiWSuJ4o"
   },
   "source": [
    "# 1. Python (2 points)"
   ]
  },
  {
   "cell_type": "markdown",
   "metadata": {
    "id": "q6l8_yRXuJ4o"
   },
   "source": [
    "**Task 1** (0.5 points)<br/>\n",
    "Enter nonzero numbers `a`, `d` and `N`. Find the sum of the first `N` members of [harmonic sequence](https://en.wikipedia.org/wiki/Harmonic_progression_(mathematics)) with the first member denominator `a`"
   ]
  },
  {
   "cell_type": "code",
   "execution_count": 3,
   "metadata": {
    "id": "H2VAlE4WuJ4o"
   },
   "outputs": [
    {
     "name": "stdout",
     "output_type": "stream",
     "text": [
      "2.9289682539682538\n"
     ]
    }
   ],
   "source": [
    "def find_sum(a: int, d: int, N: int) -> float:    \n",
    "    return np.sum(1.0 / np.arange(1, N+1))\n",
    "\n",
    "a = 1\n",
    "d = 1\n",
    "N = 10\n",
    "print(find_sum(a, d, N))"
   ]
  },
  {
   "cell_type": "markdown",
   "metadata": {
    "id": "FCtV7ud0uJ4p"
   },
   "source": [
    "**Task 2** (0.5 points) <br/>\n",
    "Enter an integer number `N`. Check if it is a palindrome number **without converting it to the string**. It means that it can be read equally from left to right and from right to back."
   ]
  },
  {
   "cell_type": "code",
   "execution_count": 10,
   "metadata": {
    "id": "-7y9eR62uJ4p"
   },
   "outputs": [
    {
     "name": "stdout",
     "output_type": "stream",
     "text": [
      "3 True\n",
      "81 False\n",
      "111 True\n",
      "113 False\n",
      "810 False\n",
      "2022 False\n",
      "4774 True\n",
      "51315 True\n",
      "611816 False\n"
     ]
    }
   ],
   "source": [
    "def check_palindrome(N):\n",
    "    rev = 0\n",
    "    temp = N\n",
    "    while temp != 0:\n",
    "        rev = rev * 10 + temp % 10\n",
    "        temp = temp // 10\n",
    "    return np.equal(N, rev)\n",
    "\n",
    "for N in [3, 81, 111, 113, 810, 2022, 4774, 51315, 611816]:\n",
    "    print(N, check_palindrome(N))"
   ]
  },
  {
   "cell_type": "markdown",
   "metadata": {
    "id": "MTmGn0IXuJ4p"
   },
   "source": [
    "**Task 3** (0.5 points) <br/>\n",
    "Find the first `N` palindrome numbers starting from 42 (you may use the function from the precious task)."
   ]
  },
  {
   "cell_type": "code",
   "execution_count": 23,
   "metadata": {
    "id": "eWD7K18OuJ4p"
   },
   "outputs": [
    {
     "name": "stdout",
     "output_type": "stream",
     "text": [
      "[44, 55, 66]\n",
      "[44, 55, 66, 77, 88, 99, 101, 111, 121, 131, 141, 151, 161]\n",
      "[44, 55, 66, 77, 88, 99, 101, 111, 121, 131, 141, 151, 161, 171, 181, 191, 202, 212, 222, 232, 242, 252, 262]\n"
     ]
    }
   ],
   "source": [
    "def find_palindromes(N):\n",
    "    curr = 42\n",
    "    res = []\n",
    "    while N != 0:\n",
    "        if check_palindrome(curr):\n",
    "            N -= 1\n",
    "            res.append(curr)\n",
    "        curr += 1\n",
    "    return res\n",
    "\n",
    "print(find_palindromes(3))\n",
    "print(find_palindromes(13))\n",
    "print(find_palindromes(23))"
   ]
  },
  {
   "cell_type": "markdown",
   "metadata": {
    "id": "xl9sWBMFuJ4p"
   },
   "source": [
    "**Task 4** (0.5 points) <br/>\n",
    "There are numbers: `a`, `b`, `c`. Without using functions `min`, `max` and other functions, find the median number."
   ]
  },
  {
   "cell_type": "code",
   "execution_count": 24,
   "metadata": {
    "id": "STOaXhYbuJ4p"
   },
   "outputs": [
    {
     "name": "stdout",
     "output_type": "stream",
     "text": [
      "50 53 4 \tMedian: 50\n",
      "60 -83 49 \tMedian: 49\n",
      "88 51 93 \tMedian: 88\n",
      "91 -59 75 \tMedian: 75\n",
      "-64 22 50 \tMedian: 22\n",
      "-57 -45 1 \tMedian: -45\n",
      "-14 -61 -67 \tMedian: -61\n",
      "-99 -78 78 \tMedian: -78\n",
      "75 39 88 \tMedian: 75\n",
      "-47 93 -8 \tMedian: -8\n"
     ]
    }
   ],
   "source": [
    "from random import randint\n",
    "\n",
    "def find_median(a, b, c):\n",
    "    if a >= b and b >= c or c >= b and b >= a:\n",
    "        return b\n",
    "    elif a >= c and c >= b or b >= c and c >= a:\n",
    "        return c\n",
    "    return a\n",
    "\n",
    "for i in range(10):\n",
    "\n",
    "    a = randint(-100, 100)\n",
    "    b = randint(-100, 100)\n",
    "    c = randint(-100, 100)\n",
    "\n",
    "    print(a, b, c, '\\tMedian:', find_median(a, b, c))"
   ]
  },
  {
   "cell_type": "markdown",
   "metadata": {
    "id": "up1L0oApuJ4p"
   },
   "source": [
    "# 2. Numpy (4 points)"
   ]
  },
  {
   "cell_type": "markdown",
   "metadata": {
    "id": "mWVb1DCyuJ4p"
   },
   "source": [
    "**Task 1** (0.5 points) <br/>\n",
    "Create a random array from Gaussian distribution with length of 12 and with sum of its elements equal to 15. Distribution shall be left Gaussian"
   ]
  },
  {
   "cell_type": "code",
   "execution_count": 30,
   "metadata": {
    "id": "r0p7U44VuJ4p"
   },
   "outputs": [
    {
     "name": "stdout",
     "output_type": "stream",
     "text": [
      "Length: 12\n",
      "Sum of elements: 14.999999999999943\n"
     ]
    }
   ],
   "source": [
    "my_array = np.random.standard_normal(12)\n",
    "my_array = my_array.dot(15 / my_array.sum())\n",
    "\n",
    "print(f'Length: {len(my_array)}')\n",
    "print(f'Sum of elements: {np.sum(my_array)}')"
   ]
  },
  {
   "cell_type": "markdown",
   "metadata": {
    "id": "k4v47kP0uJ4p"
   },
   "source": [
    "**Task 2** (0.5 points) <br/>\n",
    "Create two random arrays $a$ and $b$ with the same length.\n",
    "\n",
    "Calculate the following distances between the arrays **without using any special function. You may only use basic numpy operations (`np.linalg.*` and other high-level ones are prohibited).**:\n",
    "\n",
    "* Manhattan Distance\n",
    "$$ d(a, b) = \\sum_i |a_i - b_i| $$\n",
    "* Euclidean Distance\n",
    "$$ d(a, b) = \\sqrt{\\sum_i (a_i - b_i)^2} $$\n",
    "* Chebyshev Distance\n",
    "$$ d(a, b) = \\underset{i}{max} |a_i - b_i| $$\n",
    "* Cosine Distance\n",
    "$$ d(a, b) = 1 - \\frac{a^\\top b}{||a||_2\\cdot||b||_2} $$\n"
   ]
  },
  {
   "cell_type": "code",
   "execution_count": 42,
   "metadata": {
    "id": "W3veWp-VuJ4p"
   },
   "outputs": [],
   "source": [
    "def calculate_manhattan(a, b):\n",
    "    return np.sum(np.abs(a - b))\n",
    "\n",
    "def calculate_euclidean(a, b):\n",
    "    return np.sqrt(np.sum(np.square(a - b)))\n",
    "\n",
    "def calculate_chebyshev(a, b):\n",
    "    return np.max(abs(a - b))\n",
    "\n",
    "def calculate_cosine(a, b):\n",
    "    return 1 - np.dot(a, b) / (np.sqrt(np.dot(a, a)) * np.sqrt(np.dot(b, b)))"
   ]
  },
  {
   "cell_type": "code",
   "execution_count": 44,
   "metadata": {
    "id": "IbB3TB77uJ4q"
   },
   "outputs": [
    {
     "name": "stdout",
     "output_type": "stream",
     "text": [
      "a:\n",
      " [25 70 55 33 92  3 52 86 96 22 17 53 47 77 39 69 88  3 58 28 81 71 63 48\n",
      " 32 29 49 49 49 49 53 38 70 15 88 72 47 65 71 22 53  7 45 25 34 49 77 91\n",
      " 87 45 34 34 11  1 31 69 51 19 40 69 31 43  5 10  7 83 55  6 99 28 46 78\n",
      " 70 37 63 25 36 40 85 82  5 93 79 26 97 66 58]\n",
      "b:\n",
      " [72 60 26 86 54 24 52 89 79 67 71 78 40 71 36 90 94 47 56 77 15 79  0 95\n",
      " 39 79 97 72  1 44 27 74 42 56  0  6 62  5 37 77 75 95 20 67 20 12 44 57\n",
      " 70 47 19 97 18  3 89 10 85 14 87 58 29 77 98 48  3 87 90 70 45 35 19 11\n",
      " 45 60 64 29 44 41 27 94 36 84  5  7 35 88 47]\n",
      "Manhattan distance: 2698\n",
      "Euclidean distance: 362.8443192334696\n",
      "Chebyshev distance: 93\n",
      "Cosine distance: 0.2258718653319517\n"
     ]
    }
   ],
   "source": [
    "np.random.seed(2023)\n",
    "\n",
    "length = np.random.randint(0, 100)\n",
    "a = np.random.randint(0, 100, length)\n",
    "b = np.random.randint(0, 100, length)\n",
    "\n",
    "print('a:\\n', a)\n",
    "print('b:\\n', b)\n",
    "print(f'Manhattan distance: {calculate_manhattan(a, b)}')\n",
    "print(f'Euclidean distance: {calculate_euclidean(a, b)}')\n",
    "print(f'Chebyshev distance: {calculate_chebyshev(a, b)}')\n",
    "print(f'Cosine distance: {calculate_cosine(a, b)}')"
   ]
  },
  {
   "cell_type": "markdown",
   "metadata": {
    "id": "0inovs_suJ4q"
   },
   "source": [
    "**Task 3** (0.5 points) <br/>\n",
    "Create a random array of integers with length of 42. Transform the array so that\n",
    "* Maximum element(s) value is 10\n",
    "* Minimum element(s) value is -6\n",
    "* Other values are in interval (-6; 10) without changing the relative order (relation $\\frac{x_i}{x_{i-1}}=\\frac{\\widehat{x}_{i}}{\\widehat{x}_{i-1}}$ holds)"
   ]
  },
  {
   "cell_type": "code",
   "execution_count": 55,
   "metadata": {
    "id": "FhoGLR5CuJ4q"
   },
   "outputs": [],
   "source": [
    "def transform(array):\n",
    "    ini_min, ini_max = np.min(array), np.max(array)\n",
    "    new_min, new_max = -6.0, 10.0\n",
    "    \n",
    "    return (new_max-new_min)*((array-ini_min)/(ini_max-ini_min))+new_min"
   ]
  },
  {
   "cell_type": "code",
   "execution_count": 56,
   "metadata": {
    "id": "8BE5MjUMuJ4q"
   },
   "outputs": [
    {
     "name": "stdout",
     "output_type": "stream",
     "text": [
      "Array before transformation:\n",
      " [ 88 -58 -83  91 -51  79 -82  -4 -32 -87  84 -37  -6 -29 -82  91  -6 -76\n",
      " -70 -77  -6 -33  10  40 -25 -40 -40 -81  62  53  40  57  -9 -82 -64 -26\n",
      "   6  82  53 -86 -13  33]\n",
      "Min: -6.0\n",
      "Max: 10.0\n",
      "Array after transformation:\n",
      " [ 9.73033708 -3.39325843 -5.64044944 10.         -2.76404494  8.92134831\n",
      " -5.5505618   1.46067416 -1.05617978 -6.          9.37078652 -1.50561798\n",
      "  1.28089888 -0.78651685 -5.5505618  10.          1.28089888 -5.01123596\n",
      " -4.47191011 -5.1011236   1.28089888 -1.14606742  2.71910112  5.41573034\n",
      " -0.42696629 -1.7752809  -1.7752809  -5.46067416  7.39325843  6.58426966\n",
      "  5.41573034  6.94382022  1.01123596 -5.5505618  -3.93258427 -0.51685393\n",
      "  2.35955056  9.19101124  6.58426966 -5.91011236  0.65168539  4.78651685]\n"
     ]
    }
   ],
   "source": [
    "my_array = np.random.randint(-100, 100, 42)\n",
    "copy = np.copy(my_array)\n",
    "input_start = copy.min()\n",
    "input_end = copy.max()\n",
    "print('Array before transformation:\\n', my_array)\n",
    "my_array = transform(my_array)\n",
    "print(f'Min: {np.min(my_array)}')\n",
    "print(f'Max: {np.max(my_array)}')\n",
    "print('Array after transformation:\\n', my_array)"
   ]
  },
  {
   "cell_type": "markdown",
   "metadata": {
    "id": "2uFda-U_uJ4q"
   },
   "source": [
    "**Task 4** (0.5 points) <br/>\n",
    "Create an array with shape of $10 \\times 3$ with integers from [-12, 4]. Find a column that contains the minimum element of the array."
   ]
  },
  {
   "cell_type": "code",
   "execution_count": 106,
   "metadata": {
    "id": "u4QV7NVIuJ4q"
   },
   "outputs": [
    {
     "name": "stdout",
     "output_type": "stream",
     "text": [
      "Column №0 minimum=-10 on index=4\n",
      "Column №1 minimum=-11 on index=7\n",
      "Column №2 minimum=-12 on index=0\n",
      "Array's minimum value:  -12\n",
      "Shape:  (10, 3)\n",
      "Array:\n",
      "[[  4  -7 -12]\n",
      " [  4 -10  -3]\n",
      " [ -6  -5  -4]\n",
      " [  1 -10  -2]\n",
      " [-10 -10   0]\n",
      " [ -9   2 -10]\n",
      " [  4  -9  -2]\n",
      " [  4 -11   2]\n",
      " [  4 -11   1]\n",
      " [ -5   0   3]]\n",
      "Selected column: 2\n"
     ]
    }
   ],
   "source": [
    "my_array = np.random.randint(-12, 5, 30).reshape((10, 3))\n",
    "selected_column = -1\n",
    "min = 10\n",
    "column_mins = np.argmin(my_array, axis=0)\n",
    "for i in range(len(column_mins)):\n",
    "    cur_min = my_array[column_mins[i]][i]\n",
    "    print(f'Column №{i} minimum={cur_min} on index={column_mins[i]}')\n",
    "    if cur_min < min:\n",
    "        min = cur_min\n",
    "        selected_column = i\n",
    "print('Array\\'s minimum value: ', min)\n",
    "\n",
    "print('Shape: ', my_array.shape)\n",
    "print('Array:')\n",
    "print(my_array)\n",
    "print(f'Selected column: {selected_column}')"
   ]
  },
  {
   "cell_type": "markdown",
   "metadata": {
    "id": "9ct8lQ4BuJ4q"
   },
   "source": [
    "**Task 5** (0.5 points) <br/>\n",
    "\n",
    "Replace all missing values in the following array with the most appropriate quantile, explain why you chose it."
   ]
  },
  {
   "cell_type": "code",
   "execution_count": 4,
   "metadata": {
    "id": "RJ-6HPUQuJ4q"
   },
   "outputs": [
    {
     "name": "stdout",
     "output_type": "stream",
     "text": [
      "Array:\n",
      "[0.38805528        nan        nan        nan 0.92541921 0.69329743\n",
      " 0.225531   0.29300583        nan 0.48978769]\n"
     ]
    }
   ],
   "source": [
    "arr = np.random.rand(10)\n",
    "idx = np.random.randint(0, 10, 4)\n",
    "arr[idx] = np.nan\n",
    "\n",
    "print('Array:')\n",
    "print(arr)"
   ]
  },
  {
   "cell_type": "code",
   "execution_count": 7,
   "metadata": {
    "id": "wZV63ohyuJ4q"
   },
   "outputs": [],
   "source": [
    "def replace_missing(arr):\n",
    "    quantile = np.nanquantile(arr, 0.5)\n",
    "    arr[np.isnan(arr)] = quantile\n",
    "    return arr"
   ]
  },
  {
   "cell_type": "code",
   "execution_count": 6,
   "metadata": {
    "id": "_hG2tbcPuJ4q"
   },
   "outputs": [
    {
     "name": "stdout",
     "output_type": "stream",
     "text": [
      "Array with no missing values:\n",
      "[0.38805528 0.43892148 0.43892148 0.43892148 0.92541921 0.69329743\n",
      " 0.225531   0.29300583 0.43892148 0.48978769]\n"
     ]
    }
   ],
   "source": [
    "arr = replace_missing(arr)\n",
    "print('Array with no missing values:')\n",
    "print(arr)"
   ]
  },
  {
   "cell_type": "markdown",
   "metadata": {
    "id": "eacEv4K39AAp"
   },
   "source": [
    "**Answer:** Мы используем функцию nanquantile, чтобы найти наиболее подходящий квантиль, которым в данном случае является медиана (0.5). \n",
    "    Медина менее чувствительна к экстремальным значениям, чем среднее значение \n",
    "    => она более надёжный показатель центральной тенденции, менее подверженный влиянию выбросов."
   ]
  },
  {
   "cell_type": "markdown",
   "metadata": {
    "id": "HX2x-qUEuJ4q"
   },
   "source": [
    "**Task 6** (0.5 points) <br/>\n",
    "Create a function which takes an image ```X``` (3D array of the shape (n, m, 3)) as an input and returns the median and std for every channel (you should get a vector of shape 3, RGB)."
   ]
  },
  {
   "cell_type": "code",
   "execution_count": 8,
   "metadata": {
    "id": "pbdP4x4AuJ4q"
   },
   "outputs": [],
   "source": [
    "def stats_channel(X):\n",
    "    median = np.median(X, axis=(0, 1))\n",
    "    std = np.std(X, axis=(0, 1))\n",
    "    return median, std"
   ]
  },
  {
   "cell_type": "code",
   "execution_count": 9,
   "metadata": {
    "id": "hucX0ybWuJ4q"
   },
   "outputs": [
    {
     "name": "stdout",
     "output_type": "stream",
     "text": [
      "(array([-2., -2., -3.]), array([5.46385623, 5.47112742, 5.51921551]))\n"
     ]
    }
   ],
   "source": [
    "n = 19\n",
    "m = 23\n",
    "X = np.random.randint(-11, 8, size=(n, m, 3))\n",
    "print(stats_channel(X))"
   ]
  },
  {
   "cell_type": "markdown",
   "metadata": {
    "id": "0Pg2nDCxuJ4q"
   },
   "source": [
    "### **Task 7** (1 points) <br/>\n",
    "Create a function which takes a 3D matrix ```X``` as an input and returns all its unique values along the first axis.\n",
    "\n",
    "Sample input:\n",
    "\n",
    "```\n",
    "np.array(\n",
    "  [[[1, 2, 3],\n",
    "    [1, 2, 3],\n",
    "    [1, 2, 3]],\n",
    "\n",
    "   [[4, 5, 6],\n",
    "    [4, 5, 7],\n",
    "    [4, 5, 6]],\n",
    "\n",
    "   [[7, 8, 9],\n",
    "    [7, 8, 9],\n",
    "    [7, 8, 9]]]\n",
    ")\n",
    "```\n",
    "  \n",
    "Sample output:\n",
    "\n",
    "```\n",
    "np.array(\n",
    "  [[[1, 2, 3],\n",
    "    [1, 2, 3]],\n",
    "\n",
    "   [[4, 5, 6],\n",
    "    [4, 5, 7]],\n",
    "\n",
    "   [[7, 8, 9],\n",
    "    [7, 8, 9]]]\n",
    ")\n",
    "```"
   ]
  },
  {
   "cell_type": "code",
   "execution_count": 19,
   "metadata": {
    "id": "YdsrT0G8uJ4q"
   },
   "outputs": [],
   "source": [
    "def get_unique_values(X):\n",
    "    return np.unique(X, axis=1)"
   ]
  },
  {
   "cell_type": "code",
   "execution_count": 21,
   "metadata": {
    "id": "UNvyiySzuJ4q"
   },
   "outputs": [
    {
     "name": "stdout",
     "output_type": "stream",
     "text": [
      "Matrix:\n",
      "[[[5 4 5]\n",
      "  [5 4 4]\n",
      "  [5 4 4]]\n",
      "\n",
      " [[5 4 4]\n",
      "  [4 5 5]\n",
      "  [4 5 5]]\n",
      "\n",
      " [[4 5 4]\n",
      "  [5 4 4]\n",
      "  [4 4 4]]\n",
      "\n",
      " [[4 4 5]\n",
      "  [4 4 4]\n",
      "  [5 5 5]]\n",
      "\n",
      " [[5 5 5]\n",
      "  [4 5 4]\n",
      "  [5 5 4]]\n",
      "\n",
      " [[4 4 5]\n",
      "  [5 5 4]\n",
      "  [5 5 4]]\n",
      "\n",
      " [[5 4 5]\n",
      "  [4 5 4]\n",
      "  [4 5 4]]\n",
      "\n",
      " [[5 4 5]\n",
      "  [5 5 5]\n",
      "  [5 4 4]]\n",
      "\n",
      " [[4 5 5]\n",
      "  [5 5 5]\n",
      "  [4 5 4]]\n",
      "\n",
      " [[5 4 4]\n",
      "  [4 5 5]\n",
      "  [4 4 4]]\n",
      "\n",
      " [[5 5 4]\n",
      "  [4 4 4]\n",
      "  [4 5 5]]\n",
      "\n",
      " [[5 5 4]\n",
      "  [5 4 5]\n",
      "  [4 5 4]]\n",
      "\n",
      " [[4 4 5]\n",
      "  [4 4 4]\n",
      "  [4 5 5]]\n",
      "\n",
      " [[5 5 5]\n",
      "  [4 5 4]\n",
      "  [4 4 4]]\n",
      "\n",
      " [[5 4 4]\n",
      "  [5 5 4]\n",
      "  [4 4 5]]\n",
      "\n",
      " [[5 4 4]\n",
      "  [4 4 4]\n",
      "  [5 4 4]]\n",
      "\n",
      " [[5 4 5]\n",
      "  [4 5 4]\n",
      "  [4 4 5]]\n",
      "\n",
      " [[5 4 5]\n",
      "  [5 5 5]\n",
      "  [5 5 4]]\n",
      "\n",
      " [[4 4 4]\n",
      "  [5 4 5]\n",
      "  [5 4 5]]]\n",
      "Unique :\n"
     ]
    },
    {
     "data": {
      "text/plain": [
       "array([[[5, 4, 4],\n",
       "        [5, 4, 4],\n",
       "        [5, 4, 5]],\n",
       "\n",
       "       [[4, 5, 5],\n",
       "        [4, 5, 5],\n",
       "        [5, 4, 4]],\n",
       "\n",
       "       [[4, 4, 4],\n",
       "        [5, 4, 4],\n",
       "        [4, 5, 4]],\n",
       "\n",
       "       [[5, 5, 5],\n",
       "        [4, 4, 4],\n",
       "        [4, 4, 5]],\n",
       "\n",
       "       [[5, 5, 4],\n",
       "        [4, 5, 4],\n",
       "        [5, 5, 5]],\n",
       "\n",
       "       [[5, 5, 4],\n",
       "        [5, 5, 4],\n",
       "        [4, 4, 5]],\n",
       "\n",
       "       [[4, 5, 4],\n",
       "        [4, 5, 4],\n",
       "        [5, 4, 5]],\n",
       "\n",
       "       [[5, 4, 4],\n",
       "        [5, 5, 5],\n",
       "        [5, 4, 5]],\n",
       "\n",
       "       [[4, 5, 4],\n",
       "        [5, 5, 5],\n",
       "        [4, 5, 5]],\n",
       "\n",
       "       [[4, 4, 4],\n",
       "        [4, 5, 5],\n",
       "        [5, 4, 4]],\n",
       "\n",
       "       [[4, 5, 5],\n",
       "        [4, 4, 4],\n",
       "        [5, 5, 4]],\n",
       "\n",
       "       [[4, 5, 4],\n",
       "        [5, 4, 5],\n",
       "        [5, 5, 4]],\n",
       "\n",
       "       [[4, 5, 5],\n",
       "        [4, 4, 4],\n",
       "        [4, 4, 5]],\n",
       "\n",
       "       [[4, 4, 4],\n",
       "        [4, 5, 4],\n",
       "        [5, 5, 5]],\n",
       "\n",
       "       [[4, 4, 5],\n",
       "        [5, 5, 4],\n",
       "        [5, 4, 4]],\n",
       "\n",
       "       [[5, 4, 4],\n",
       "        [4, 4, 4],\n",
       "        [5, 4, 4]],\n",
       "\n",
       "       [[4, 4, 5],\n",
       "        [4, 5, 4],\n",
       "        [5, 4, 5]],\n",
       "\n",
       "       [[5, 5, 4],\n",
       "        [5, 5, 5],\n",
       "        [5, 4, 5]],\n",
       "\n",
       "       [[5, 4, 5],\n",
       "        [5, 4, 5],\n",
       "        [4, 4, 4]]])"
      ]
     },
     "execution_count": 21,
     "metadata": {},
     "output_type": "execute_result"
    }
   ],
   "source": [
    "X =  np.random.randint(4, 6, size=(n, 3, 3))\n",
    "print('Matrix:')\n",
    "print(X)\n",
    "print('Unique :')\n",
    "get_unique_values(X)"
   ]
  },
  {
   "cell_type": "markdown",
   "metadata": {
    "id": "W135mraVuJ4r"
   },
   "source": [
    "# 3. Pandas & Visualization (4 points)\n"
   ]
  },
  {
   "cell_type": "markdown",
   "metadata": {
    "id": "_UfaIXGcuJ4r"
   },
   "source": [
    "You are going to work with *Titanic* dataset which contains information about passengers of Titanic:\n",
    "- **Survived** - 1 - survived, 0 - died (0); **Target variable**\n",
    "- **pclass** - passengers's class;\n",
    "- **sex** - passengers's sex\n",
    "- **Age** - passengers's age in years\n",
    "- **sibsp**    - is the passenger someones siblings   \n",
    "- **parch**    - is the passenger someones child or parent\n",
    "- **ticket** - ticket number    \n",
    "- **fare** - ticket price    \n",
    "- **cabin** - cabin number\n",
    "- **embarked** - port of Embarkation; C = Cherbourg, Q = Queenstown, S = Southampton\n",
    "\n",
    "**Note** for all visualizations use matplotlib or seaborn but NOT plotly! Plotly's graphics sometimes vanish after saving. In this case the task won't be graded.\n",
    "\n",
    "**Note** support all your answers with necessary code, computations, vizualization, and explanation. Answers without code and explanation won't be graded.\n",
    "\n",
    "**Task 0** (0 points) \\\n",
    "Load the dataset and print first 6 rows"
   ]
  },
  {
   "cell_type": "code",
   "execution_count": null,
   "metadata": {
    "id": "92IDku0HuJ4r"
   },
   "outputs": [],
   "source": [
    "dataset =  ## Your code here\n",
    "## Your code here"
   ]
  },
  {
   "cell_type": "markdown",
   "metadata": {
    "id": "0FeAHgZtuJ4r"
   },
   "source": [
    "**Task 1** (1 points) <br/>\n",
    "Answer the following questions:\n",
    "    \n",
    "    * Are there any missing values? In what columns?\n",
    "    * What is the percentage of survived passengers? Are the classes balanced?\n",
    "    * Were there more males or females?\n",
    "    * What what the least popular port of embarkation?\n",
    "    * How many passenger classes (pclass) were there on Tinanic?\n",
    "    * What is the overall average ticket fare? And for every passenger class?\n",
    "Please, write not only the answers but the code, proving it."
   ]
  },
  {
   "cell_type": "code",
   "execution_count": null,
   "metadata": {
    "id": "4PizO86UuJ4r"
   },
   "outputs": [],
   "source": [
    "## Your code here"
   ]
  },
  {
   "cell_type": "markdown",
   "metadata": {
    "id": "s9bfz5KbuJ4r"
   },
   "source": [
    "**Task 2** (0.5 points) <br/>\n",
    "Visualize age distribution (you may use a histogram, for example).\n",
    "\n",
    "    * What is the minimal and maximum ages of the passengers? Visualize it on the plot\n",
    "    * What is the median age? And among males and females separately? Visualize it on the separate plot\n",
    "    * Make conclusions about what you see on the plots"
   ]
  },
  {
   "cell_type": "code",
   "execution_count": null,
   "metadata": {
    "id": "q19UF2SHuJ41"
   },
   "outputs": [],
   "source": [
    "## Your code here"
   ]
  },
  {
   "cell_type": "markdown",
   "metadata": {
    "id": "ye6WohwXuJ41"
   },
   "source": [
    "**Task 3** (1 points) <br/>\n",
    "Find all the titles of the passengers (example, *Capt., Mr.,Mme.*), which are written in the column Name, and answer the following questions:\n",
    "\n",
    "    * How many are there unique titles?\n",
    "    * How many are there passengers with every title?\n",
    "    * What is the most popular man's title? And woman's title?\n",
    "    \n",
    "**Hint** You may select the title from the name as a word which contains a dot and is not middle name."
   ]
  },
  {
   "cell_type": "code",
   "execution_count": null,
   "metadata": {
    "id": "LDBIRnGXuJ41"
   },
   "outputs": [],
   "source": [
    "## Your code here"
   ]
  },
  {
   "cell_type": "markdown",
   "metadata": {
    "id": "n0RsqbTPuJ41"
   },
   "source": [
    "**Task 4** (0.5 points) <br/>\n",
    "Is there correlation between *pclass* and *ticket price*? Calculate mean price for each class and visualize price distribution for each class as well. Make conclusions about what you see on the plot\n",
    "\n",
    "Hint: you could make one or several plot types i.e.  box, violine, pair, histogram (see additional notebooks for Seminar 1 \"Visualization with Seaborn\"). Main point here is to **choose** plots wisely and **make meaningful conclusions**\n",
    "\n"
   ]
  },
  {
   "cell_type": "code",
   "execution_count": null,
   "metadata": {
    "id": "fkvVvnHPuJ41"
   },
   "outputs": [],
   "source": [
    "## You code here"
   ]
  },
  {
   "cell_type": "markdown",
   "metadata": {
    "id": "UcptRilCuJ41"
   },
   "source": [
    "**Task 5** (0.5 points) <br/>\n",
    "The same question as in task 4 about correlation between *embarked* and *ticket priсe*."
   ]
  },
  {
   "cell_type": "code",
   "execution_count": null,
   "metadata": {
    "id": "biR9anS5uJ41"
   },
   "outputs": [],
   "source": [
    "## You code here"
   ]
  },
  {
   "cell_type": "markdown",
   "metadata": {
    "id": "eeKKfMOguJ41"
   },
   "source": [
    "**Task 6** (0.5 points) <br/>\n",
    "Visualize age distribution for survived and not survived passengers separately and calculate the mean age for each class. Are they different? Provide the same visualization for males and females separately. Make conclusions about what you see on the plots"
   ]
  },
  {
   "cell_type": "code",
   "execution_count": null,
   "metadata": {
    "id": "udmgFlQTuJ42"
   },
   "outputs": [],
   "source": [
    "## You code here"
   ]
  }
 ],
 "metadata": {
  "colab": {
   "provenance": []
  },
  "kernelspec": {
   "display_name": "Python 3 (ipykernel)",
   "language": "python",
   "name": "python3"
  },
  "language_info": {
   "codemirror_mode": {
    "name": "ipython",
    "version": 3
   },
   "file_extension": ".py",
   "mimetype": "text/x-python",
   "name": "python",
   "nbconvert_exporter": "python",
   "pygments_lexer": "ipython3",
   "version": "3.11.5"
  }
 },
 "nbformat": 4,
 "nbformat_minor": 4
}
